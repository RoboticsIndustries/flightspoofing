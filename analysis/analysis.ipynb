{
 "cells": [
  {
   "cell_type": "code",
   "execution_count": null,
   "id": "82abc4f3",
   "metadata": {},
   "outputs": [],
   "source": [
    "\n",
    "import pandas as pdx\n",
    "import matplotlib.pyplot as plt\n",
    "import seaborn as sns\n",
    "from datetime import datetime"
   ]
  },
  {
   "cell_type": "code",
   "execution_count": null,
   "id": "aebf157b",
   "metadata": {},
   "outputs": [],
   "source": [
    "# Cell 2: Load the data\n",
    "df = pd.read_csv('acars_packets_with_spoofing.csv')\n",
    "df.head()"
   ]
  },
  {
   "cell_type": "code",
   "execution_count": null,
   "id": "163af417",
   "metadata": {},
   "outputs": [],
   "source": [
    "# Cell 3: Basic Info and Cleanup\n",
    "df.info()\n",
    "df['Timestamp'] = pd.to_datetime(df['Timestamp'])\n",
    "df.describe()"
   ]
  },
  {
   "cell_type": "code",
   "execution_count": null,
   "id": "6783647e",
   "metadata": {},
   "outputs": [],
   "source": [
    "# Cell 4: Check for Nulls and Data Quality\n",
    "df.isnull().sum()"
   ]
  },
  {
   "cell_type": "code",
   "execution_count": null,
   "id": "990dc1c8",
   "metadata": {},
   "outputs": [],
   "source": [
    "# Cell 5: Distribution of Spoofed vs Normal Packets\n",
    "sns.countplot(data=df, x='IsSpoofed')\n",
    "plt.title(\"Distribution of Spoofed vs. Normal Packets\")\n",
    "plt.xticks([0, 1], ['Normal', 'Spoofed'])\n",
    "plt.xlabel(\"Packet Type\")\n",
    "plt.ylabel(\"Count\")\n",
    "plt.show()"
   ]
  },
  {
   "cell_type": "code",
   "execution_count": null,
   "id": "5d6f0ac3",
   "metadata": {},
   "outputs": [],
   "source": [
    "# Cell 6: Flight Altitudes vs Spoofing\n",
    "plt.figure(figsize=(10, 5))\n",
    "sns.histplot(data=df, x='Altitude_ft', hue='IsSpoofed', bins=50, kde=True)\n",
    "plt.title(\"Altitude Distribution by Spoofing Status\")\n",
    "plt.xlabel(\"Altitude (feet)\")\n",
    "plt.show()\n"
   ]
  },
  {
   "cell_type": "code",
   "execution_count": null,
   "id": "eff59779",
   "metadata": {},
   "outputs": [],
   "source": [
    "# Cell 7: Speed vs Spoofing\n",
    "plt.figure(figsize=(10, 5))\n",
    "sns.histplot(data=df, x='Speed_knots', hue='IsSpoofed', bins=50, kde=True)\n",
    "plt.title(\"Speed Distribution by Spoofing Status\")\n",
    "plt.xlabel(\"Speed (knots)\")\n",
    "plt.show()\n"
   ]
  },
  {
   "cell_type": "code",
   "execution_count": null,
   "id": "e8dc1836",
   "metadata": {},
   "outputs": [],
   "source": [
    "# Cell 8: Geospatial Scatter Plot\n",
    "plt.figure(figsize=(12, 6))\n",
    "sns.scatterplot(data=df, x='Longitude', y='Latitude', hue='IsSpoofed', palette='coolwarm', alpha=0.6)\n",
    "plt.title(\"Geospatial Distribution of Packets\")\n",
    "plt.xlabel(\"Longitude\")\n",
    "plt.ylabel(\"Latitude\")\n",
    "plt.show()\n"
   ]
  },
  {
   "cell_type": "code",
   "execution_count": null,
   "id": "ae2d59fa",
   "metadata": {},
   "outputs": [],
   "source": [
    "# Cell 9: Spoofing Rate by Message Type\n",
    "spoof_by_type = df.groupby('MessageType')['IsSpoofed'].mean().sort_values(ascending=False)\n",
    "spoof_by_type.plot(kind='bar', color='orange')\n",
    "plt.title(\"Spoofing Rate by Message Type\")\n",
    "plt.ylabel(\"Spoofing Rate\")\n",
    "plt.xlabel(\"Message Type\")\n",
    "plt.xticks(rotation=45)\n",
    "plt.show()\n"
   ]
  },
  {
   "cell_type": "code",
   "execution_count": null,
   "id": "1921a5be",
   "metadata": {},
   "outputs": [],
   "source": [
    "# Cell 10: Time Series of Spoofed Packets\n",
    "df.set_index('Timestamp', inplace=True)\n",
    "spoofed_ts = df[df['IsSpoofed'] == 1].resample('10T').size()\n",
    "spoofed_ts.plot(figsize=(12, 5), title=\"Spoofed Packets Over Time\")\n",
    "plt.ylabel(\"Spoofed Packets\")\n",
    "plt.xlabel(\"Time\")\n",
    "plt.show()\n"
   ]
  }
 ],
 "metadata": {
  "kernelspec": {
   "display_name": "Python 3",
   "language": "python",
   "name": "python3"
  },
  "language_info": {
   "name": "python",
   "version": "3.11.13"
  }
 },
 "nbformat": 4,
 "nbformat_minor": 5
}
